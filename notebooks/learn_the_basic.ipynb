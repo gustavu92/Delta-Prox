{
 "cells": [
  {
   "attachments": {},
   "cell_type": "markdown",
   "metadata": {},
   "source": [
    "# Learn the Basics of ∇-Prox\n",
    "\n",
    "This tutorial introduces you to a completed proximal optimization workflow implemented in ∇-Prox. For simplicity, we will use image deconvolution problem as an example to demonstrate the functionalities of ∇-Prox.\n",
    "\n",
    "The goal of image deconvolution is to reconstruct the clear image $x$ from the blurred observation $y$ that is obtained by convolving $x$ by the point spread function (PSF) as \n",
    "$$\n",
    "y = D(x, \\text{PSF})\n",
    "$$\n",
    "where $D$ denotes convolution operation.\n",
    "\n",
    "To reconstruct target image x from noise-contaminated measurements y, we minimize the sum of a data-fidelity $|| D(x) - y ||^2_2$ and regularizer term $r$ as,\n",
    "$$\n",
    " \\mathop{\\mathrm{min}}_{x \\in \\mathbb{R}^n} ~ || D(x) - y ||^2_2 + r (x ; \\, \\theta_r).\n",
    "$$\n",
    "\n",
    "We consider a hybrid regularizer including (1) an implicit plug-and-play prior $g(x; \\theta_r)$ parameterized by $\\theta_r$ and (2) non-negative constraint of image. \n",
    "$$\n",
    "r(x; \\theta_r) = \\lambda g(x; \\theta_r) + I_{[0,\\infty)},\n",
    "$$\n",
    "\n",
    "\n",
    "Note: In order to run the following tutorial, please install the requirements following the [Installation tutorial]()"
   ]
  },
  {
   "attachments": {},
   "cell_type": "markdown",
   "metadata": {},
   "source": [
    "### Import libraries\n",
    "\n",
    "In the begining, we import all the necessary libraries. "
   ]
  },
  {
   "cell_type": "code",
   "execution_count": null,
   "metadata": {},
   "outputs": [],
   "source": [
    "from dprox import *\n",
    "from dprox.utils import *\n",
    "from dprox.utils.examples import *\n",
    "import matplotlib.pyplot as plt\n",
    "plt.rc('text', usetex=True)"
   ]
  },
  {
   "attachments": {},
   "cell_type": "markdown",
   "metadata": {},
   "source": [
    "### Prepare Data\n",
    "\n",
    "Then, let's generate some sample data to play with."
   ]
  },
  {
   "cell_type": "code",
   "execution_count": null,
   "metadata": {},
   "outputs": [],
   "source": [
    "img = sample('face')\n",
    "psf = point_spread_function(ksize=15, sigma=5)\n",
    "y = blurring(img, psf)\n",
    "print(img.shape, y.shape)\n",
    "imshow(img, y, titles=[r'ground truth $x$', r'blurry measurement $y$'])"
   ]
  },
  {
   "attachments": {},
   "cell_type": "markdown",
   "metadata": {},
   "source": [
    "### Representing Optimization Problem in ∇-Prox\n",
    "\n",
    "Recall our goal is to reconstruct the clear image given the blurry observation, by solving an optimization problem as \n",
    "$$\n",
    " \\mathop{\\mathrm{min}}_{x \\in \\mathbb{R}^n} ~ || D(x) - y ||^2_2 + \\lambda g(x; \\theta_r) + I_{[0,\\infty)}.\n",
    "$$\n",
    "\n",
    "We can write down this problem in ∇-Prox **with a very simple syntax following the math.**"
   ]
  },
  {
   "cell_type": "code",
   "execution_count": null,
   "metadata": {},
   "outputs": [],
   "source": [
    "x = Variable()\n",
    "data_term = sum_squares(conv(x, psf) - y)\n",
    "prior_term = deep_prior(x, 'ffdnet_color')  # using a simple FFDNet denoiser as a deep plug-and-play prior \n",
    "reg_term = nonneg(x)\n",
    "objective = data_term + prior_term + reg_term\n",
    "p = Problem(objective)"
   ]
  },
  {
   "attachments": {},
   "cell_type": "markdown",
   "metadata": {},
   "source": [
    "### Basic Problem Solving\n",
    "\n",
    "Solving the problem can be easily achieved by calling the `solve` method with the desired algorithms, e.g., `ADMM` in this case.\n",
    "\n",
    "You could also try other algorithms, the compatible algorithms and reference performance are listed as below, \n",
    "\n",
    "| Key     | Method                                     | Expected PSNR |\n",
    "|---------|--------------------------------------------|---------------|\n",
    "| `admm`  | Alternative Direction Method of Multiplier | 31.94         |\n",
    "| `hqs`   | Half Qudratic Splitting                    | 31.65         |\n",
    "| `pc`    | Pock Chambolle                             | 29.66         |\n",
    "| `ladmm` | Linearized ADMM                            | 31.95         |"
   ]
  },
  {
   "cell_type": "code",
   "execution_count": null,
   "metadata": {},
   "outputs": [],
   "source": [
    "out = p.solve(method='admm', x0=y, pbar=True)\n",
    "imshow(out, titles=[r'reconstruction $\\hat{x}$ ' + f'(PSNR: {psnr(out, img):.3f})'])"
   ]
  },
  {
   "attachments": {},
   "cell_type": "markdown",
   "metadata": {},
   "source": [
    "In many cases,  you need to manually tune the hyperparameters of the algorithm to achieve better performance. For example, let's consider a slightly harder noisy deconvolution problem as\n",
    "$$\n",
    "y = D(x, \\text{PSF}) + \\epsilon\n",
    "$$\n",
    "where $\\epsilon$ denotes a small amount of Gaussian noise with intensity $\\sigma = \\frac{5}{255}$."
   ]
  },
  {
   "cell_type": "code",
   "execution_count": null,
   "metadata": {},
   "outputs": [],
   "source": [
    "y = blurring(img, psf) + np.random.randn(*img.shape).astype('float32') * 5/255.0\n",
    "imshow(img, y, titles=[r'ground truth $x$', r'blurry and noisy measurement $y$'])"
   ]
  },
  {
   "attachments": {},
   "cell_type": "markdown",
   "metadata": {},
   "source": [
    "Again, let's solve the problem with ∇-Prox. We can see that default parameters **diverge** and fail to solve the problem."
   ]
  },
  {
   "cell_type": "code",
   "execution_count": null,
   "metadata": {},
   "outputs": [],
   "source": [
    "x = Variable()\n",
    "data_term = sum_squares(conv(x, psf) - y)\n",
    "prior_term = deep_prior(x, 'ffdnet_color')\n",
    "reg_term = nonneg(x)\n",
    "objective = data_term + prior_term + reg_term\n",
    "p = Problem(objective)\n",
    "out = p.solve(method='admm', x0=y, pbar=True)\n",
    "imshow(out, titles=[r'reconstruction $\\hat{x}_1$ ' + f'(PSNR: {psnr(out, img):.3f})'])"
   ]
  },
  {
   "attachments": {},
   "cell_type": "markdown",
   "metadata": {},
   "source": [
    "To fix it, we have to manually tune the algorithm parameters. In ∇-Prox, this can be achieved by passing extra keyword arguments to `solve`, e.g., "
   ]
  },
  {
   "cell_type": "code",
   "execution_count": null,
   "metadata": {},
   "outputs": [],
   "source": [
    "out = p.solve(method='admm', x0=y, rhos=0.004, lams=0.02, max_iter=24, pbar=True)\n",
    "imshow(out, titles=[r'reconstruction $\\hat{x}_2$ ' + f'(PSNR: {psnr(out, img):.3f})'])"
   ]
  },
  {
   "attachments": {},
   "cell_type": "markdown",
   "metadata": {},
   "source": [
    "We should note that the manual parameter tuning is a tedious process. Different choices of parameters may affect the performance significantly. For example, by changing `rhos` to 0.1, the PSNR drops by 1.3 dB."
   ]
  },
  {
   "cell_type": "code",
   "execution_count": null,
   "metadata": {},
   "outputs": [],
   "source": [
    "out = p.solve(method='admm', x0=y, rhos=0.1, lams=0.02, max_iter=24, pbar=True)\n",
    "imshow(out, titles=[r'reconstruction $\\hat{x}_3$ ' + f'(PSNR: {psnr(out, img):.3f})'])"
   ]
  },
  {
   "attachments": {},
   "cell_type": "markdown",
   "metadata": {},
   "source": [
    "In many cases, the optimal choice may vary for different inputs. Moreover, for real-world applications, we won't have ground-truth to evaluate the performance of different parameters for different inputs, which makes parameter tuning even harder.\n",
    "\n",
    "To address it, ∇-Prox incorporates the automatic parameter scheduler that can be learned with reinforcement learning. Please refer to the [tutorial on automatic parameter scheduler]() for more details."
   ]
  }
 ],
 "metadata": {
  "kernelspec": {
   "display_name": "torch1.10",
   "language": "python",
   "name": "python3"
  },
  "language_info": {
   "codemirror_mode": {
    "name": "ipython",
    "version": 3
   },
   "file_extension": ".py",
   "mimetype": "text/x-python",
   "name": "python",
   "nbconvert_exporter": "python",
   "pygments_lexer": "ipython3",
   "version": "3.8.15"
  },
  "orig_nbformat": 4,
  "vscode": {
   "interpreter": {
    "hash": "7a870b966584756aeba6c824cc21ec4ca49c058caa364cbaa3ff3aca61090be1"
   }
  }
 },
 "nbformat": 4,
 "nbformat_minor": 2
}
