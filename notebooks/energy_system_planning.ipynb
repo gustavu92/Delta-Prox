{
 "cells": [
  {
   "attachments": {},
   "cell_type": "markdown",
   "metadata": {},
   "source": [
    "# Integrated Energy System Planning (IESP)\n",
    "The application domain of Integrated Energy System Planning (IESP) is a field that describes the energy system in mathematical models typically formulated as optimization problems. Solving energy planning tasks is essential in the transition to climate neutrality of regional and global energy systems, providing decision support to policymakers by gaining insights into complex interactions and dynamics of increasingly integrated energy systems, e.g., see [Schmitz et al., 2023](https://doi.org/10.1007/s12667-023-00595-y), [Böttger and Härtel 2022](https://doi.org/10.1016/j.eneco.2021.105709), [Craig et al. 2022](https://doi.org/10.1016/j.joule.2022.05.010), [Frischmuth et al. 2022](https://doi.org/10.1109/EEM54602.2022.9921154).\n",
    "\n",
    "The planning problems corresponding to large-scale energy systems (easily up to 100 million decision variables) are typically formulated\n",
    "as continuous linear programming (LP) problems. Note that there are many non-linear and non-convex properties in energy systems. However, especially in long-term analyses with a large geographical scope, modeling applications apply simplifications, abstractions, and approximations. They resort to (convex) linear programming formulations to reduce the computational burden."
   ]
  },
  {
   "cell_type": "code",
   "execution_count": 2,
   "metadata": {},
   "outputs": [],
   "source": [
    "# Uncomment the following line to install dprox if your are in the online google colab notebook\n",
    "# !pip install dprox"
   ]
  },
  {
   "cell_type": "markdown",
   "metadata": {},
   "source": [
    "## A reduced IESP problem instance\n",
    "We consider an exemplary LP problem instance representing an IESP problem. It models a (reduced) multi-period capacity expansion and system operation planning problem instance which helps to develop transformation pathways of integrated energy systems.\n",
    "\n",
    "### Importing the required packages"
   ]
  },
  {
   "cell_type": "code",
   "execution_count": 2,
   "metadata": {},
   "outputs": [],
   "source": [
    "import os\n",
    "import sys\n",
    "from scipy import io\n",
    "import scipy.sparse\n",
    "import numpy as np\n",
    "import dprox.utils.huggingface as hf"
   ]
  },
  {
   "cell_type": "markdown",
   "metadata": {},
   "source": [
    "### Load problem instance \n",
    "Let us load a small IESP problem example in standard LP format. Note that the constraint matrix is stored in a sparse format and distinguishes equality (eq) and inequality (ub) constraints."
   ]
  },
  {
   "cell_type": "code",
   "execution_count": 4,
   "metadata": {},
   "outputs": [],
   "source": [
    "def load_lp_componentes_from_mat(filename):\n",
    "    \"\"\"\n",
    "    Loads the linear program components from a .mat file.\n",
    "    \"\"\"\n",
    "    model_components = io.loadmat(filename)\n",
    "    A_ub = model_components[\"A_ub\"]\n",
    "    b_ub = model_components[\"b_ub\"][0, :]\n",
    "    A_eq = model_components[\"A_eq\"]\n",
    "    b_eq = model_components[\"b_eq\"][0, :]\n",
    "    c = model_components[\"c\"][0, :]\n",
    "    x_lb = model_components[\"x_lb\"][0, :]\n",
    "    x_ub = model_components[\"x_ub\"][0, :]\n",
    "\n",
    "    return (A_ub, b_ub, A_eq, b_eq, c, x_lb, x_ub)\n",
    "\n",
    "# Load LP components\n",
    "A_ub, b_ub, A_eq, b_eq, c, x_lb, x_ub = load_lp_componentes_from_mat(hf.load_path(\"examples/iesp/esm_instance.mat\"))"
   ]
  },
  {
   "cell_type": "markdown",
   "metadata": {},
   "source": [
    "### Problem size and coefficient statistics\n",
    "Next, we report the problem size and coefficient statistics for the energy system planning problem. The problem size is reported in terms of the number of variables and constraints. The coefficient statistics are reported by the minimum and maximum values of non-zero coefficients in the corresponding linear problem matrices and vectors."
   ]
  },
  {
   "cell_type": "code",
   "execution_count": 17,
   "metadata": {},
   "outputs": [
    {
     "name": "stdout",
     "output_type": "stream",
     "text": [
      "Number of decision variables: 324150\n",
      "Number of linear equality constraints: 52558\n",
      "Number of linear inequality constraints (w/o bound constraints): 306604\n",
      "\n",
      "Coefficient statistics (positive non-zero) of model components:\n",
      "c \t: [1.00e-08, 4.38e-01]\n",
      "A_eq \t: [9.59e-01, 1.07e+00]\n",
      "A_ub \t: [1.01e-06, 6.00e+00]\n",
      "b_eq \t: [1.00e+00, 1.96e+05]\n",
      "b_ub \t: [4.80e+03, 2.00e+08]\n",
      "x_ub \t: [inf, inf]\n"
     ]
    }
   ],
   "source": [
    "# Report problem size\n",
    "print(f\"Number of decision variables: {A_eq.shape[1]}\")\n",
    "print(f\"Number of linear equality constraints: {A_eq.shape[0]}\")\n",
    "print(f\"Number of linear inequality constraints (w/o bound constraints): {A_ub.shape[0]}\\n\")\n",
    "\n",
    "# Report coefficient statistics\n",
    "print(\"Coefficient statistics (positive non-zero) of model components:\")\n",
    "print(f\"c \\t: [{np.min(np.abs(c[c != 0])):3.2e}, {np.max(np.abs(c[c != 0])):3.2e}]\")\n",
    "print(f\"A_eq \\t: [{np.min(np.abs(A_eq[A_eq != 0])):3.2e}, {np.max(np.abs(A_eq[A_eq != 0])):3.2e}]\")\n",
    "print(f\"A_ub \\t: [{np.min(np.abs(A_ub[A_ub != 0])):3.2e}, {np.max(np.abs(A_ub[A_ub != 0])):3.2e}]\")\n",
    "print(f\"b_eq \\t: [{np.min(np.abs(b_eq[b_eq != 0])):3.2e}, {np.max(np.abs(b_eq[b_eq != 0])):3.2e}]\")\n",
    "print(f\"b_ub \\t: [{np.min(np.abs(b_ub[b_ub != 0])):3.2e}, {np.max(np.abs(b_ub[b_ub != 0])):3.2e}]\")\n",
    "print(f\"x_ub \\t: [{np.min(np.abs(x_ub[x_ub != 0])):3.2e}, {np.max(np.abs(x_ub[x_ub != 0])):3.2e}]\")"
   ]
  },
  {
   "cell_type": "markdown",
   "metadata": {},
   "source": [
    "### Visualize the sparsity pattern of the linear problem matrices\n",
    "Next, we visualize the sparsity pattern of the linear problem matrices. This is useful to get an idea of the structure of the problem and to check if the problem is formulated correctly."
   ]
  },
  {
   "cell_type": "code",
   "execution_count": null,
   "metadata": {},
   "outputs": [],
   "source": [
    "import matplotlib.pyplot as plt\n",
    "def plot_sparsity_pattern(A, name):\n",
    "    plt.spy(A, markersize=0.25, aspect=\"auto\")\n",
    "    plt.title(f\"Sparsity pattern of the {name} matrix (sparsity={A.getnnz() / (A.shape[0] * A.shape[1]):.2e})\")\n",
    "\n",
    "plt.figure(figsize=(12, 6))\n",
    "plt.subplot(1, 2, 1)\n",
    "plot_sparsity_pattern(A_ub, \"A_ub\")\n",
    "plt.subplot(1, 2, 2)\n",
    "plot_sparsity_pattern(A_eq, \"A_eq\")"
   ]
  },
  {
   "cell_type": "markdown",
   "metadata": {},
   "source": [
    "Note that the energy system planning instance poses an ill-conditioned and sparse linear programming problem. Due to the different commodities, technologies, and actors involved, this is a typical characteristic of energy system planning problem instances."
   ]
  },
  {
   "cell_type": "markdown",
   "metadata": {},
   "source": [
    "## Solving the IESP problem with Delta-Prox\n",
    "\n",
    "### Preparation\n",
    "First, we have to import the necessary libraries, configure the CUDA device and set necessary algorithm parameters."
   ]
  },
  {
   "cell_type": "code",
   "execution_count": 7,
   "metadata": {},
   "outputs": [],
   "source": [
    "os.environ[\"KMP_DUPLICATE_LIB_OK\"] = \"TRUE\"\n",
    "import time\n",
    "import random\n",
    "import torch\n",
    "import dprox as dp\n",
    "\n",
    "# Set device\n",
    "if torch.cuda.device_count() > 0:\n",
    "    device = torch.device('cuda')\n",
    "else:\n",
    "    device = torch.device('cpu')\n",
    "\n",
    "# Set seed for reproducibility\n",
    "random.seed(2023)\n",
    "torch.manual_seed(2023)\n",
    "np.random.seed(2023)\n",
    "\n",
    "# Set algorithm parameters\n",
    "max_iters = 100000\n",
    "abs_tol = 5e-2\n",
    "rel_tol = 1e-10\n",
    "rho = 1e-2\n",
    "dtype = torch.float64\n",
    "norm_ord = float('inf')"
   ]
  },
  {
   "cell_type": "markdown",
   "metadata": {},
   "source": [
    "### Solve the problem with Delta-Prox"
   ]
  },
  {
   "cell_type": "code",
   "execution_count": null,
   "metadata": {},
   "outputs": [],
   "source": [
    "# Initialize problem and solver\n",
    "start = time.time()\n",
    "lp_problem = dp.algo.lp.LPProblem(c, A_ub, b_ub, A_eq, b_eq, x_lb, x_ub, norm_ord=norm_ord, dtype=dtype, sparse=True, device=device)\n",
    "lp_admm = dp.algo.lp.LPSolverADMM(rho=rho, problem_scale=None, abstol=abs_tol, reltol=rel_tol, max_iters=max_iters, dtype=dtype).to(device)\n",
    "\n",
    "# Solve problem\n",
    "with torch.no_grad():\n",
    "    lp_admm.eval()\n",
    "    x, history, res = lp_admm.solve(lp_problem, residual_balance=True)\n",
    "\n",
    "x = x.cpu().numpy().squeeze()\n",
    "\n",
    "print(res[0])\n",
    "\n",
    "print(f'x >= 0 err: {x.min():.2e}')\n",
    "print(f'Ax = b err: {np.abs(b_eq - A_eq @ x).max():.2e}')\n",
    "print(f'Ax <= b err: {np.min(b_ub - A_ub @ x):.2e}')\n",
    "\n",
    "torch.cuda.current_stream().synchronize()\n",
    "end = time.time()\n",
    "print(f\"Time elapsed (LPADMM): {end-start:.4f}s\\n\")\n"
   ]
  },
  {
   "cell_type": "markdown",
   "metadata": {},
   "source": [
    "Solving with dprox on a NVIDIA A100 GPU results in the following output:\n",
    "```console\n",
    "tensor([[83432.3454]], device='cuda:0', dtype=torch.float64)\n",
    "x >= 0 err: -1.90e-02\n",
    "Ax = b err: 1.33e-02\n",
    "Ax <= b err: -5.98e-02\n",
    "Time elapsed (LPADMM): 247.9268s\n",
    "```"
   ]
  },
  {
   "cell_type": "markdown",
   "metadata": {},
   "source": [
    "## Comparison with established CPU solvers\n",
    "To compare the results and convergence behavior with established solvers, we use the proprietary [Gurobi Optimizer](https://www.gurobi.com/solutions/gurobi-optimizer/) and open-source [HiGHS](https://www.maths.ed.ac.uk/hall/HiGHS/) solvers.\n",
    "\n",
    "### Gurobi\n",
    "First, we solve the problem instance with the Gurobi solver via the [gurobipy](https://support.gurobi.com/hc/en-us/articles/360044290292-How-do-I-install-Gurobi-for-Python-) interface. Please note that this step requires a valid Gurobi license as it is a proprietary solver."
   ]
  },
  {
   "cell_type": "code",
   "execution_count": null,
   "metadata": {},
   "outputs": [],
   "source": [
    "import gurobipy as gp\n",
    "# Requires a license\n",
    "\n",
    "m = gp.Model()\n",
    "x = m.addMVar(c.shape[0], lb=x_lb, ub=x_ub)\n",
    "m.setObjective(c @ x)\n",
    "m.addConstr(A_eq @ x == b_eq)\n",
    "m.addConstr(A_ub @ x <= b_ub)\n",
    "\n",
    "m.params.Method = 2 # Interior Point Method (Barrier + crossover)\n",
    "\n",
    "m.optimize()"
   ]
  },
  {
   "cell_type": "markdown",
   "metadata": {},
   "source": [
    "```console\n",
    "Solving with Gurobi Optimizer version 10.0.2 build v10.0.2rc0 (win64)\n",
    "\n",
    "CPU model: 12th Gen Intel(R) Core(TM) i7-1280P\n",
    "Thread count: 14 physical cores, 20 logical processors, using up to 20 threads\n",
    "\n",
    "[...]\n",
    "\n",
    "Solved in 292328 iterations and 85.80 seconds (355.13 work units)\n",
    "Optimal objective  8.341841135e+04\n",
    "```"
   ]
  },
  {
   "cell_type": "markdown",
   "metadata": {},
   "source": [
    "### HiGHS\n",
    "We use the [highspy](https://ergo-code.github.io/HiGHS/dev/interfaces/python/#python-getting-started) interface to solve the LP problem with HiGHS. The highspy interface is a python wrapper for the HiGHS solver."
   ]
  },
  {
   "cell_type": "code",
   "execution_count": null,
   "metadata": {},
   "outputs": [],
   "source": [
    "!pip install highspy"
   ]
  },
  {
   "cell_type": "code",
   "execution_count": null,
   "metadata": {},
   "outputs": [],
   "source": [
    "import highspy\n",
    "import scipy.sparse\n",
    "\n",
    "h = highspy.Highs()\n",
    "h.addVars(len(c), x_lb, x_ub)\n",
    "h.changeColsCost(len(c), np.arange(len(c), dtype=np.int32), c)\n",
    "\n",
    "A = scipy.sparse.vstack((A_eq, A_ub))\n",
    "b = np.hstack((b_eq, b_ub))\n",
    "\n",
    "num_cons = A.shape[0]\n",
    "A = A.tocsr()\n",
    "\n",
    "lower=np.hstack((b_eq, -np.inf * np.ones_like(b_ub)))\n",
    "upper=np.hstack((b_eq, b_ub))\n",
    "\n",
    "h.addRows(num_cons, lower, upper, A.nnz, A.indptr, A.indices, A.data)\n",
    "\n",
    "lp = h.getLp()\n",
    "h.passModel(lp)\n",
    "h.setOptionValue(\"log_to_console\", True)\n",
    "h.setOptionValue(\"solver\", \"ipm\")\n",
    "\n",
    "start = time.time()\n",
    "\n",
    "h.run()\n",
    "\n",
    "end = time.time()\n",
    "print(f\"Time elapsed: {end - start:.2f}s\")\n",
    "\n",
    "info = h.getInfo()\n",
    "model_status = h.getModelStatus()\n",
    "print('Model status = ', h.modelStatusToString(model_status))\n",
    "print('Optimal objective = ', info.objective_function_value)\n",
    "print('Iteration count = ', info.simplex_iteration_count)\n",
    "print('Primal solution status = ', h.solutionStatusToString(info.primal_solution_status))\n",
    "print('Dual solution status = ', h.solutionStatusToString(info.dual_solution_status))\n",
    "print('Basis validity = ', h.basisValidityToString(info.basis_validity))"
   ]
  },
  {
   "cell_type": "markdown",
   "metadata": {},
   "source": [
    "```console\n",
    "Time elapsed: 3555.89s\n",
    "Model status =  Optimal\n",
    "Optimal objective =  83418.40550119097\n",
    "Iteration count =  57338\n",
    "Primal solution status =  Feasible\n",
    "Dual solution status =  Feasible\n",
    "Basis validity =  Valid\n",
    "```"
   ]
  },
  {
   "cell_type": "markdown",
   "metadata": {},
   "source": [
    "## Summary\n",
    "For the example IESP problem, we see that Delta-Prox can solve the problem with solutions times comparable to Gurobi and faster than HiGHS with accuracy close to the results of Gurobi and HiGHS.\n",
    "\n",
    "Since Delta-Prox only relies on first-order methods, it offers substantial memory savings, which is key for large-scale problems as memory use presents a challenge for established CPU-based solvers and their second-order methods."
   ]
  }
 ],
 "metadata": {
  "kernelspec": {
   "display_name": "dprox",
   "language": "python",
   "name": "python3"
  },
  "language_info": {
   "codemirror_mode": {
    "name": "ipython",
    "version": 3
   },
   "file_extension": ".py",
   "mimetype": "text/x-python",
   "name": "python",
   "nbconvert_exporter": "python",
   "pygments_lexer": "ipython3",
   "version": "3.7.12"
  },
  "orig_nbformat": 4
 },
 "nbformat": 4,
 "nbformat_minor": 2
}
